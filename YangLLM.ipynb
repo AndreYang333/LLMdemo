{
  "nbformat": 4,
  "nbformat_minor": 0,
  "metadata": {
    "colab": {
      "provenance": [],
      "gpuType": "T4",
      "authorship_tag": "ABX9TyNYMinhj0ZHid+UqRk+W4W8",
      "include_colab_link": true
    },
    "kernelspec": {
      "name": "python3",
      "display_name": "Python 3"
    },
    "language_info": {
      "name": "python"
    },
    "accelerator": "GPU"
  },
  "cells": [
    {
      "cell_type": "markdown",
      "metadata": {
        "id": "view-in-github",
        "colab_type": "text"
      },
      "source": [
        "<a href=\"https://colab.research.google.com/github/AndreYang333/LLMdemo/blob/main/YangLLM.ipynb\" target=\"_parent\"><img src=\"https://colab.research.google.com/assets/colab-badge.svg\" alt=\"Open In Colab\"/></a>"
      ]
    },
    {
      "cell_type": "markdown",
      "source": [
        "## Import required libraries"
      ],
      "metadata": {
        "id": "_gSj3zZ37h0A"
      }
    },
    {
      "cell_type": "code",
      "source": [
        "!git clone https://github.com/jingyaogong/minimind.git\n"
      ],
      "metadata": {
        "id": "et5QO4XNdfAB"
      },
      "execution_count": null,
      "outputs": []
    },
    {
      "cell_type": "code",
      "source": [
        "%cd minimind\n",
        "!pip install -r requirements.txt -i https://pypi.tuna.tsinghua.edu.cn/simple"
      ],
      "metadata": {
        "id": "jjCrFYnA7U6Q"
      },
      "execution_count": null,
      "outputs": []
    },
    {
      "cell_type": "markdown",
      "source": [
        "Try tokenizer"
      ],
      "metadata": {
        "id": "B_KhQlh-8aBn"
      }
    },
    {
      "cell_type": "code",
      "source": [
        "from transformers import AutoTokenizer\n",
        "\n",
        "tokenizer = AutoTokenizer.from_pretrained('./model/minimind_tokenizer')\n",
        "encoded = tokenizer.encode(\"Hello, world!\")\n",
        "print(encoded)\n",
        "decoded = tokenizer.decode(encoded)\n",
        "print(decoded)"
      ],
      "metadata": {
        "colab": {
          "base_uri": "https://localhost:8080/"
        },
        "id": "hq1eGFsH7fHI",
        "outputId": "4648126c-a571-4ce7-decc-e0958004c8f2"
      },
      "execution_count": 3,
      "outputs": [
        {
          "output_type": "stream",
          "name": "stdout",
          "text": [
            "[42, 392, 338, 14, 1636, 3]\n",
            "Hello, world!\n"
          ]
        }
      ]
    },
    {
      "cell_type": "markdown",
      "source": [
        "load pretrain dataset"
      ],
      "metadata": {
        "id": "qF8MN_Sv_Uaq"
      }
    },
    {
      "cell_type": "code",
      "source": [
        "!wget https://huggingface.co/datasets/jingyaogong/minimind_dataset/resolve/main/pretrain_data.csv\n"
      ],
      "metadata": {
        "colab": {
          "base_uri": "https://localhost:8080/"
        },
        "id": "s6og90wdABgK",
        "outputId": "5465d4fc-cc55-4813-e7d2-e83c90c7c283"
      },
      "execution_count": 3,
      "outputs": [
        {
          "output_type": "stream",
          "name": "stdout",
          "text": [
            "--2024-10-15 02:34:13--  https://huggingface.co/datasets/jingyaogong/minimind_dataset/resolve/main/pretrain_data.csv\n",
            "Resolving huggingface.co (huggingface.co)... 13.35.210.114, 13.35.210.66, 13.35.210.61, ...\n",
            "Connecting to huggingface.co (huggingface.co)|13.35.210.114|:443... connected.\n",
            "HTTP request sent, awaiting response... 302 Found\n",
            "Location: https://cdn-lfs-us-1.hf.co/repos/f5/23/f5236f74d511fdea90a69e7656dbda10eed02a9cf9f31cba848231fa85adaf86/973e043a16a7427374c5caf2062a29056547b27c9d039e3b396e124c44ecab1d?response-content-disposition=inline%3B+filename*%3DUTF-8%27%27pretrain_data.csv%3B+filename%3D%22pretrain_data.csv%22%3B&response-content-type=text%2Fcsv&Expires=1729218854&Policy=eyJTdGF0ZW1lbnQiOlt7IkNvbmRpdGlvbiI6eyJEYXRlTGVzc1RoYW4iOnsiQVdTOkVwb2NoVGltZSI6MTcyOTIxODg1NH19LCJSZXNvdXJjZSI6Imh0dHBzOi8vY2RuLWxmcy11cy0xLmhmLmNvL3JlcG9zL2Y1LzIzL2Y1MjM2Zjc0ZDUxMWZkZWE5MGE2OWU3NjU2ZGJkYTEwZWVkMDJhOWNmOWYzMWNiYTg0ODIzMWZhODVhZGFmODYvOTczZTA0M2ExNmE3NDI3Mzc0YzVjYWYyMDYyYTI5MDU2NTQ3YjI3YzlkMDM5ZTNiMzk2ZTEyNGM0NGVjYWIxZD9yZXNwb25zZS1jb250ZW50LWRpc3Bvc2l0aW9uPSomcmVzcG9uc2UtY29udGVudC10eXBlPSoifV19&Signature=NbTqG7qGClOTi1rFWG3xb41KWr5y0GUhvBSCSgA0PVj%7EbOi7TlZq0UYOj%7E24YWn-kBAbv2KOvh0KtZv9StO73Y3vZcQv6ScbFCDKJGRBYKvRPEgC-P9BLYWxZu5GHibKBkpWF7LV9bDWWF7b0nFYZ6jREFwG%7EU2ud5Sk8UevqiOPiiP5GGDKcvuQeiVPNgJp6MN85WGuSLsmDd%7E1Ox5SEzDurb8Fcfhn2ck9wxc5pLaqqQZjHR0hluDF0CVOdGDZhZ8nHggL3nhbSps6IPs3Nm7atEU4poKFLmoeUiL8eu0VWUESiaU9-lH8J9c2Jq9NOGuPk7iNwa4pEsTRDPs9AA__&Key-Pair-Id=K24J24Z295AEI9 [following]\n",
            "--2024-10-15 02:34:14--  https://cdn-lfs-us-1.hf.co/repos/f5/23/f5236f74d511fdea90a69e7656dbda10eed02a9cf9f31cba848231fa85adaf86/973e043a16a7427374c5caf2062a29056547b27c9d039e3b396e124c44ecab1d?response-content-disposition=inline%3B+filename*%3DUTF-8%27%27pretrain_data.csv%3B+filename%3D%22pretrain_data.csv%22%3B&response-content-type=text%2Fcsv&Expires=1729218854&Policy=eyJTdGF0ZW1lbnQiOlt7IkNvbmRpdGlvbiI6eyJEYXRlTGVzc1RoYW4iOnsiQVdTOkVwb2NoVGltZSI6MTcyOTIxODg1NH19LCJSZXNvdXJjZSI6Imh0dHBzOi8vY2RuLWxmcy11cy0xLmhmLmNvL3JlcG9zL2Y1LzIzL2Y1MjM2Zjc0ZDUxMWZkZWE5MGE2OWU3NjU2ZGJkYTEwZWVkMDJhOWNmOWYzMWNiYTg0ODIzMWZhODVhZGFmODYvOTczZTA0M2ExNmE3NDI3Mzc0YzVjYWYyMDYyYTI5MDU2NTQ3YjI3YzlkMDM5ZTNiMzk2ZTEyNGM0NGVjYWIxZD9yZXNwb25zZS1jb250ZW50LWRpc3Bvc2l0aW9uPSomcmVzcG9uc2UtY29udGVudC10eXBlPSoifV19&Signature=NbTqG7qGClOTi1rFWG3xb41KWr5y0GUhvBSCSgA0PVj%7EbOi7TlZq0UYOj%7E24YWn-kBAbv2KOvh0KtZv9StO73Y3vZcQv6ScbFCDKJGRBYKvRPEgC-P9BLYWxZu5GHibKBkpWF7LV9bDWWF7b0nFYZ6jREFwG%7EU2ud5Sk8UevqiOPiiP5GGDKcvuQeiVPNgJp6MN85WGuSLsmDd%7E1Ox5SEzDurb8Fcfhn2ck9wxc5pLaqqQZjHR0hluDF0CVOdGDZhZ8nHggL3nhbSps6IPs3Nm7atEU4poKFLmoeUiL8eu0VWUESiaU9-lH8J9c2Jq9NOGuPk7iNwa4pEsTRDPs9AA__&Key-Pair-Id=K24J24Z295AEI9\n",
            "Resolving cdn-lfs-us-1.hf.co (cdn-lfs-us-1.hf.co)... 18.155.68.65, 18.155.68.50, 18.155.68.69, ...\n",
            "Connecting to cdn-lfs-us-1.hf.co (cdn-lfs-us-1.hf.co)|18.155.68.65|:443... connected.\n",
            "HTTP request sent, awaiting response... 200 OK\n",
            "Length: 4655571465 (4.3G) [text/csv]\n",
            "Saving to: ‘pretrain_data.csv’\n",
            "\n",
            "pretrain_data.csv   100%[===================>]   4.33G  23.3MB/s    in 3m 25s  \n",
            "\n",
            "2024-10-15 02:37:39 (21.7 MB/s) - ‘pretrain_data.csv’ saved [4655571465/4655571465]\n",
            "\n"
          ]
        }
      ]
    },
    {
      "cell_type": "code",
      "source": [
        "%cd minimind\n",
        "!ls"
      ],
      "metadata": {
        "colab": {
          "base_uri": "https://localhost:8080/"
        },
        "id": "3SHiSJAoBqQ7",
        "outputId": "07ed3e8e-453f-4ecd-973f-c097cd8db119"
      },
      "execution_count": 5,
      "outputs": [
        {
          "output_type": "stream",
          "name": "stdout",
          "text": [
            "/content/minimind\n",
            "0-eval_pretrain.py  5-dpo_train.py\tdataset\t\t   LICENSE\t      README.md\n",
            "1-pretrain.py\t    ceval\t\teval_ceval.py\t   model\t      requirements.txt\n",
            "2-eval.py\t    chat_openai_api.py\texport_model.py    my_openai_api.py   train_tokenizer.py\n",
            "3-full_sft.py\t    CODE_OF_CONDUCT.md\tfast_infenence.py  pretrain_data.csv  中文逐行注释\n",
            "4-lora_sft.py\t    data_process.py\timages\t\t   README_en.md\n"
          ]
        }
      ]
    },
    {
      "cell_type": "code",
      "source": [
        "import shutil\n",
        "import os\n",
        "\n",
        "# 源文件路径\n",
        "source = './pretrain_data.csv'\n",
        "\n",
        "# 目标文件夹路径\n",
        "destination = './dataset/pretrain_data.csv'\n",
        "\n",
        "# 移动文件\n",
        "shutil.move(source, destination)\n",
        "\n",
        "print(f\"File moved to {destination}\")"
      ],
      "metadata": {
        "colab": {
          "base_uri": "https://localhost:8080/"
        },
        "id": "iLhq_zz9DA48",
        "outputId": "a9dd9905-982b-4b05-b950-1d7587a4efb1"
      },
      "execution_count": 7,
      "outputs": [
        {
          "output_type": "stream",
          "name": "stdout",
          "text": [
            "File moved to ./dataset/pretrain_data.csv\n"
          ]
        }
      ]
    },
    {
      "cell_type": "code",
      "source": [
        "!python 1-pretrain.py"
      ],
      "metadata": {
        "colab": {
          "base_uri": "https://localhost:8080/"
        },
        "id": "s6W1KDa2DXJ8",
        "outputId": "8b68c4c5-ea7f-40e5-ffb3-db35026761e7"
      },
      "execution_count": 11,
      "outputs": [
        {
          "output_type": "stream",
          "name": "stdout",
          "text": [
            "cuda\n",
            "2024-10-15 03:43:51.048402: E external/local_xla/xla/stream_executor/cuda/cuda_fft.cc:485] Unable to register cuFFT factory: Attempting to register factory for plugin cuFFT when one has already been registered\n",
            "2024-10-15 03:43:51.071691: E external/local_xla/xla/stream_executor/cuda/cuda_dnn.cc:8454] Unable to register cuDNN factory: Attempting to register factory for plugin cuDNN when one has already been registered\n",
            "2024-10-15 03:43:51.078277: E external/local_xla/xla/stream_executor/cuda/cuda_blas.cc:1452] Unable to register cuBLAS factory: Attempting to register factory for plugin cuBLAS when one has already been registered\n",
            "2024-10-15 03:43:51.094085: I tensorflow/core/platform/cpu_feature_guard.cc:210] This TensorFlow binary is optimized to use available CPU instructions in performance-critical operations.\n",
            "To enable the following instructions: AVX2 FMA, in other operations, rebuild TensorFlow with the appropriate compiler flags.\n",
            "2024-10-15 03:43:52.897935: W tensorflow/compiler/tf2tensorrt/utils/py_utils.cc:38] TF-TRT Warning: Could not find TensorRT\n",
            "LLM总参数量：26.878 百万\n",
            "Epoch:[0/1](0/63) loss:8.868 lr:0.0002000 epoch_Time:3.0min:\n"
          ]
        }
      ]
    },
    {
      "cell_type": "code",
      "source": [],
      "metadata": {
        "id": "dEMQfG3ADewb"
      },
      "execution_count": null,
      "outputs": []
    }
  ]
}